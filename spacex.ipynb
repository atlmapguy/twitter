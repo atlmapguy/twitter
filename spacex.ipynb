{
 "cells": [
  {
   "cell_type": "code",
   "execution_count": 1,
   "metadata": {},
   "outputs": [
    {
     "name": "stdout",
     "output_type": "stream",
     "text": [
      "Requirement already satisfied: tweepy in /srv/conda/envs/notebook/lib/python3.7/site-packages (3.8.0)\n",
      "Requirement already satisfied: PySocks>=1.5.7 in /srv/conda/envs/notebook/lib/python3.7/site-packages (from tweepy) (1.7.0)\n",
      "Requirement already satisfied: requests-oauthlib>=0.7.0 in /srv/conda/envs/notebook/lib/python3.7/site-packages (from tweepy) (1.2.0)\n",
      "Requirement already satisfied: six>=1.10.0 in /srv/conda/envs/notebook/lib/python3.7/site-packages (from tweepy) (1.12.0)\n",
      "Requirement already satisfied: requests>=2.11.1 in /srv/conda/envs/notebook/lib/python3.7/site-packages (from tweepy) (2.22.0)\n",
      "Requirement already satisfied: oauthlib>=3.0.0 in /srv/conda/envs/notebook/lib/python3.7/site-packages (from requests-oauthlib>=0.7.0->tweepy) (3.0.1)\n",
      "Requirement already satisfied: certifi>=2017.4.17 in /srv/conda/envs/notebook/lib/python3.7/site-packages (from requests>=2.11.1->tweepy) (2019.6.16)\n",
      "Requirement already satisfied: idna<2.9,>=2.5 in /srv/conda/envs/notebook/lib/python3.7/site-packages (from requests>=2.11.1->tweepy) (2.8)\n",
      "Requirement already satisfied: urllib3!=1.25.0,!=1.25.1,<1.26,>=1.21.1 in /srv/conda/envs/notebook/lib/python3.7/site-packages (from requests>=2.11.1->tweepy) (1.25.3)\n",
      "Requirement already satisfied: chardet<3.1.0,>=3.0.2 in /srv/conda/envs/notebook/lib/python3.7/site-packages (from requests>=2.11.1->tweepy) (3.0.4)\n",
      "Note: you may need to restart the kernel to use updated packages.\n"
     ]
    }
   ],
   "source": [
    "pip install tweepy"
   ]
  },
  {
   "cell_type": "code",
   "execution_count": 2,
   "metadata": {},
   "outputs": [
    {
     "name": "stdout",
     "output_type": "stream",
     "text": [
      "Requirement already satisfied: pandas in /srv/conda/envs/notebook/lib/python3.7/site-packages (0.24.2)\n",
      "Requirement already satisfied: numpy>=1.12.0 in /srv/conda/envs/notebook/lib/python3.7/site-packages (from pandas) (1.16.4)\n",
      "Requirement already satisfied: python-dateutil>=2.5.0 in /srv/conda/envs/notebook/lib/python3.7/site-packages (from pandas) (2.8.0)\n",
      "Requirement already satisfied: pytz>=2011k in /srv/conda/envs/notebook/lib/python3.7/site-packages (from pandas) (2019.1)\n",
      "Requirement already satisfied: six>=1.5 in /srv/conda/envs/notebook/lib/python3.7/site-packages (from python-dateutil>=2.5.0->pandas) (1.12.0)\n",
      "Note: you may need to restart the kernel to use updated packages.\n"
     ]
    }
   ],
   "source": [
    "pip install pandas"
   ]
  },
  {
   "cell_type": "code",
   "execution_count": 3,
   "metadata": {},
   "outputs": [
    {
     "name": "stdout",
     "output_type": "stream",
     "text": [
      "Requirement already satisfied: matplotlib in /srv/conda/envs/notebook/lib/python3.7/site-packages (3.1.1)\n",
      "Requirement already satisfied: pyparsing!=2.0.4,!=2.1.2,!=2.1.6,>=2.0.1 in /srv/conda/envs/notebook/lib/python3.7/site-packages (from matplotlib) (2.4.0)\n",
      "Requirement already satisfied: cycler>=0.10 in /srv/conda/envs/notebook/lib/python3.7/site-packages (from matplotlib) (0.10.0)\n",
      "Requirement already satisfied: python-dateutil>=2.1 in /srv/conda/envs/notebook/lib/python3.7/site-packages (from matplotlib) (2.8.0)\n",
      "Requirement already satisfied: numpy>=1.11 in /srv/conda/envs/notebook/lib/python3.7/site-packages (from matplotlib) (1.16.4)\n",
      "Requirement already satisfied: kiwisolver>=1.0.1 in /srv/conda/envs/notebook/lib/python3.7/site-packages (from matplotlib) (1.1.0)\n",
      "Requirement already satisfied: six in /srv/conda/envs/notebook/lib/python3.7/site-packages (from cycler>=0.10->matplotlib) (1.12.0)\n",
      "Requirement already satisfied: setuptools in /srv/conda/envs/notebook/lib/python3.7/site-packages (from kiwisolver>=1.0.1->matplotlib) (41.0.1)\n",
      "Note: you may need to restart the kernel to use updated packages.\n"
     ]
    }
   ],
   "source": [
    "pip install matplotlib"
   ]
  },
  {
   "cell_type": "code",
   "execution_count": 4,
   "metadata": {},
   "outputs": [
    {
     "name": "stdout",
     "output_type": "stream",
     "text": [
      "Requirement already satisfied: seaborn in /srv/conda/envs/notebook/lib/python3.7/site-packages (0.9.0)\n",
      "Requirement already satisfied: matplotlib>=1.4.3 in /srv/conda/envs/notebook/lib/python3.7/site-packages (from seaborn) (3.1.1)\n",
      "Requirement already satisfied: pandas>=0.15.2 in /srv/conda/envs/notebook/lib/python3.7/site-packages (from seaborn) (0.24.2)\n",
      "Requirement already satisfied: numpy>=1.9.3 in /srv/conda/envs/notebook/lib/python3.7/site-packages (from seaborn) (1.16.4)\n",
      "Requirement already satisfied: scipy>=0.14.0 in /srv/conda/envs/notebook/lib/python3.7/site-packages (from seaborn) (1.3.0)\n",
      "Requirement already satisfied: pyparsing!=2.0.4,!=2.1.2,!=2.1.6,>=2.0.1 in /srv/conda/envs/notebook/lib/python3.7/site-packages (from matplotlib>=1.4.3->seaborn) (2.4.0)\n",
      "Requirement already satisfied: cycler>=0.10 in /srv/conda/envs/notebook/lib/python3.7/site-packages (from matplotlib>=1.4.3->seaborn) (0.10.0)\n",
      "Requirement already satisfied: python-dateutil>=2.1 in /srv/conda/envs/notebook/lib/python3.7/site-packages (from matplotlib>=1.4.3->seaborn) (2.8.0)\n",
      "Requirement already satisfied: kiwisolver>=1.0.1 in /srv/conda/envs/notebook/lib/python3.7/site-packages (from matplotlib>=1.4.3->seaborn) (1.1.0)\n",
      "Requirement already satisfied: pytz>=2011k in /srv/conda/envs/notebook/lib/python3.7/site-packages (from pandas>=0.15.2->seaborn) (2019.1)\n",
      "Requirement already satisfied: six in /srv/conda/envs/notebook/lib/python3.7/site-packages (from cycler>=0.10->matplotlib>=1.4.3->seaborn) (1.12.0)\n",
      "Requirement already satisfied: setuptools in /srv/conda/envs/notebook/lib/python3.7/site-packages (from kiwisolver>=1.0.1->matplotlib>=1.4.3->seaborn) (41.0.1)\n",
      "Note: you may need to restart the kernel to use updated packages.\n"
     ]
    }
   ],
   "source": [
    "pip install seaborn"
   ]
  },
  {
   "cell_type": "code",
   "execution_count": 5,
   "metadata": {},
   "outputs": [
    {
     "name": "stdout",
     "output_type": "stream",
     "text": [
      "Requirement already satisfied: nltk in /srv/conda/envs/notebook/lib/python3.7/site-packages (3.4.4)\n",
      "Requirement already satisfied: six in /srv/conda/envs/notebook/lib/python3.7/site-packages (from nltk) (1.12.0)\n",
      "Note: you may need to restart the kernel to use updated packages.\n"
     ]
    }
   ],
   "source": [
    "pip install nltk"
   ]
  },
  {
   "cell_type": "code",
   "execution_count": 6,
   "metadata": {},
   "outputs": [
    {
     "name": "stdout",
     "output_type": "stream",
     "text": [
      "Requirement already satisfied: textblob in /srv/conda/envs/notebook/lib/python3.7/site-packages (0.15.3)\n",
      "Requirement already satisfied: nltk>=3.1 in /srv/conda/envs/notebook/lib/python3.7/site-packages (from textblob) (3.4.4)\n",
      "Requirement already satisfied: six in /srv/conda/envs/notebook/lib/python3.7/site-packages (from nltk>=3.1->textblob) (1.12.0)\n",
      "Note: you may need to restart the kernel to use updated packages.\n"
     ]
    }
   ],
   "source": [
    "pip install textblob"
   ]
  },
  {
   "cell_type": "code",
   "execution_count": 7,
   "metadata": {},
   "outputs": [],
   "source": [
    "import pandas as pd\n",
    "import matplotlib.pyplot as plt\n",
    "import seaborn as sns\n",
    "import itertools\n",
    "import collections\n",
    "\n",
    "import tweepy as tw\n",
    "import nltk\n",
    "from nltk.corpus import stopwords\n",
    "import re\n",
    "import networkx\n",
    "from textblob import TextBlob\n",
    "\n",
    "import warnings\n",
    "warnings.filterwarnings(\"ignore\")\n",
    "\n",
    "sns.set(font_scale=1.5)\n",
    "sns.set_style(\"whitegrid\")"
   ]
  },
  {
   "cell_type": "code",
   "execution_count": 8,
   "metadata": {},
   "outputs": [],
   "source": [
    "consumer_key = 'u45ngwHcJhgtCybpctPgO0xMG'\n",
    "consumer_secret = 'RxvvQWvmqLDZs1JLgReM7vD4rq2727MZVLiLlfHr3C9Wsmzw0U'\n",
    "access_token = '879390376691453952-LMqqRPysWOrmyE9q3wDKYHrRftMjIFY'\n",
    "access_secret = 'veZ0v6gJWLHPjtRPSiI3uNzUwKGzJXqPUgEb7Mi3Tn9Qq'"
   ]
  },
  {
   "cell_type": "code",
   "execution_count": 9,
   "metadata": {},
   "outputs": [],
   "source": [
    "auth = tw.OAuthHandler(consumer_key, consumer_secret)\n",
    "auth.set_access_token(access_token, access_secret)\n",
    "api = tw.API(auth, wait_on_rate_limit=True)"
   ]
  },
  {
   "cell_type": "code",
   "execution_count": 10,
   "metadata": {},
   "outputs": [],
   "source": [
    "def remove_url(txt):\n",
    "    \"\"\"Replace URLs found in a text string with nothing \n",
    "    (i.e. it will remove the URL from the string).\n",
    "\n",
    "    Parameters\n",
    "    ----------\n",
    "    txt : string\n",
    "        A text string that you want to parse and remove urls.\n",
    "\n",
    "    Returns\n",
    "    -------\n",
    "    The same txt string with url's removed.\n",
    "    \"\"\"\n",
    "\n",
    "    return \" \".join(re.sub(\"([^0-9A-Za-z \\t])|(\\w+:\\/\\/\\S+)\", \"\", txt).split())\n",
    "# Create a custom search term and define the number of tweets\n",
    "search_term = \"#spacex -filter:retweets\"\n",
    "\n",
    "tweets = tw.Cursor(api.search, q=search_term, lang=\"en\", since='2019-07-24', until='2019-07-25').items(500)\n",
    "\n",
    "# Remove URLs\n",
    "tweets_no_urls = [remove_url(tweet.text) for tweet in tweets]"
   ]
  },
  {
   "cell_type": "code",
   "execution_count": 11,
   "metadata": {},
   "outputs": [
    {
     "data": {
      "text/plain": [
       "TextBlob(\"trees and Nativeforests are immensely valuable SaveOurNativeForests ecocide is a crime against humanity\")"
      ]
     },
     "execution_count": 11,
     "metadata": {},
     "output_type": "execute_result"
    }
   ],
   "source": [
    "# Create textblob objects of the tweets\n",
    "sentiment_objects = [TextBlob(tweet) for tweet in tweets_no_urls]\n",
    "\n",
    "sentiment_objects[0].polarity, sentiment_objects[0]\n",
    "\n",
    "TextBlob(\"trees and Nativeforests are immensely valuable SaveOurNativeForests ecocide is a crime against humanity\")"
   ]
  },
  {
   "cell_type": "code",
   "execution_count": 12,
   "metadata": {},
   "outputs": [
    {
     "data": {
      "text/plain": [
       "[0.0,\n",
       " 'trees and Nativeforests are immensely valuable SaveOurNativeForests ecocide is a crime against humanity']"
      ]
     },
     "execution_count": 12,
     "metadata": {},
     "output_type": "execute_result"
    }
   ],
   "source": [
    "# Create list of polarity valuesx and tweet text\n",
    "sentiment_values = [[tweet.sentiment.polarity, str(tweet)] for tweet in sentiment_objects]\n",
    "\n",
    "sentiment_values[0]\n",
    "[0.0,\n",
    " 'trees and Nativeforests are immensely valuable SaveOurNativeForests ecocide is a crime against humanity']"
   ]
  },
  {
   "cell_type": "code",
   "execution_count": 13,
   "metadata": {},
   "outputs": [
    {
     "data": {
      "text/html": [
       "<div>\n",
       "<style scoped>\n",
       "    .dataframe tbody tr th:only-of-type {\n",
       "        vertical-align: middle;\n",
       "    }\n",
       "\n",
       "    .dataframe tbody tr th {\n",
       "        vertical-align: top;\n",
       "    }\n",
       "\n",
       "    .dataframe thead th {\n",
       "        text-align: right;\n",
       "    }\n",
       "</style>\n",
       "<table border=\"1\" class=\"dataframe\">\n",
       "  <thead>\n",
       "    <tr style=\"text-align: right;\">\n",
       "      <th></th>\n",
       "      <th>polarity</th>\n",
       "      <th>tweet</th>\n",
       "    </tr>\n",
       "  </thead>\n",
       "  <tbody>\n",
       "    <tr>\n",
       "      <th>0</th>\n",
       "      <td>-0.250</td>\n",
       "      <td>Alien 1 Hey I went out for a spin today and fo...</td>\n",
       "    </tr>\n",
       "    <tr>\n",
       "      <th>1</th>\n",
       "      <td>0.600</td>\n",
       "      <td>Aw a kind gentleman wearing a SpaceX tshirt to...</td>\n",
       "    </tr>\n",
       "    <tr>\n",
       "      <th>2</th>\n",
       "      <td>-0.125</td>\n",
       "      <td>SpaceX scrubs launch attempt from Cape Canaver...</td>\n",
       "    </tr>\n",
       "    <tr>\n",
       "      <th>3</th>\n",
       "      <td>0.125</td>\n",
       "      <td>SpaceX s Starhopper eventually to be destined ...</td>\n",
       "    </tr>\n",
       "    <tr>\n",
       "      <th>4</th>\n",
       "      <td>0.500</td>\n",
       "      <td>elonmusk Starship SpaceX On my way to SpaceX B...</td>\n",
       "    </tr>\n",
       "  </tbody>\n",
       "</table>\n",
       "</div>"
      ],
      "text/plain": [
       "   polarity                                              tweet\n",
       "0    -0.250  Alien 1 Hey I went out for a spin today and fo...\n",
       "1     0.600  Aw a kind gentleman wearing a SpaceX tshirt to...\n",
       "2    -0.125  SpaceX scrubs launch attempt from Cape Canaver...\n",
       "3     0.125  SpaceX s Starhopper eventually to be destined ...\n",
       "4     0.500  elonmusk Starship SpaceX On my way to SpaceX B..."
      ]
     },
     "execution_count": 13,
     "metadata": {},
     "output_type": "execute_result"
    }
   ],
   "source": [
    "# Create dataframe containing the polarity value and tweet text\n",
    "sentiment_df = pd.DataFrame(sentiment_values, columns=[\"polarity\", \"tweet\"])\n",
    "\n",
    "sentiment_df.head()"
   ]
  },
  {
   "cell_type": "code",
   "execution_count": 14,
   "metadata": {},
   "outputs": [
    {
     "data": {
      "image/png": "[encoded data removed]",
      "text/plain": [
       "<Figure size 576x432 with 1 Axes>"
      ]
     },
     "metadata": {
      "needs_background": "light"
     },
     "output_type": "display_data"
    }
   ],
   "source": [
    "fig, ax = plt.subplots(figsize=(8, 6))\n",
    "\n",
    "# Plot histogram of the polarity values\n",
    "sentiment_df.hist(bins=[-1, -0.75, -0.5, -0.25, 0.25, 0.5, 0.75, 1],\n",
    "             ax=ax,\n",
    "             color=\"purple\")\n",
    "\n",
    "plt.title(\"Sentiments from Tweets on spacex\")\n",
    "plt.show()"
   ]
  },
  {
   "cell_type": "code",
   "execution_count": 15,
   "metadata": {},
   "outputs": [
    {
     "name": "stdout",
     "output_type": "stream",
     "text": [
      "Requirement already satisfied: tweepy in /srv/conda/envs/notebook/lib/python3.7/site-packages (3.8.0)\n",
      "Requirement already satisfied: six>=1.10.0 in /srv/conda/envs/notebook/lib/python3.7/site-packages (from tweepy) (1.12.0)\n",
      "Requirement already satisfied: requests-oauthlib>=0.7.0 in /srv/conda/envs/notebook/lib/python3.7/site-packages (from tweepy) (1.2.0)\n",
      "Requirement already satisfied: requests>=2.11.1 in /srv/conda/envs/notebook/lib/python3.7/site-packages (from tweepy) (2.22.0)\n",
      "Requirement already satisfied: PySocks>=1.5.7 in /srv/conda/envs/notebook/lib/python3.7/site-packages (from tweepy) (1.7.0)\n",
      "Requirement already satisfied: oauthlib>=3.0.0 in /srv/conda/envs/notebook/lib/python3.7/site-packages (from requests-oauthlib>=0.7.0->tweepy) (3.0.1)\n",
      "Requirement already satisfied: certifi>=2017.4.17 in /srv/conda/envs/notebook/lib/python3.7/site-packages (from requests>=2.11.1->tweepy) (2019.6.16)\n",
      "Requirement already satisfied: urllib3!=1.25.0,!=1.25.1,<1.26,>=1.21.1 in /srv/conda/envs/notebook/lib/python3.7/site-packages (from requests>=2.11.1->tweepy) (1.25.3)\n",
      "Requirement already satisfied: idna<2.9,>=2.5 in /srv/conda/envs/notebook/lib/python3.7/site-packages (from requests>=2.11.1->tweepy) (2.8)\n",
      "Requirement already satisfied: chardet<3.1.0,>=3.0.2 in /srv/conda/envs/notebook/lib/python3.7/site-packages (from requests>=2.11.1->tweepy) (3.0.4)\n",
      "Note: you may need to restart the kernel to use updated packages.\n"
     ]
    }
   ],
   "source": [
    "pip install tweepy"
   ]
  },
  {
   "cell_type": "code",
   "execution_count": 16,
   "metadata": {},
   "outputs": [
    {
     "name": "stdout",
     "output_type": "stream",
     "text": [
      "2019-07-24 23:59:41 RT @NASA: Today’s launch of @SpaceX’s #Dragon spacecraft was scrubbed due to unfavorable weather conditions. The launch is now targeted for…\n",
      "2019-07-24 23:59:41 RT @BocaChicaGal: Venting stopped a bit ago and it's really quiet. SpaceX workers are pulling up to watch StarHopper hop. ❤StarHopper ❤\n",
      "2019-07-24 23:59:30 RT @DJSonik6: @NASAKennedy @SpaceX @Space_Station Super Mega Dope Awesome 👏🥰😍 SO PROUD 🥰 of you @elonmusk 🚀🛰🥇🌎\n",
      "2019-07-24 23:59:26 @NASAKennedy @SpaceX @Space_Station Super Mega Dope Awesome 👏🥰😍 SO PROUD 🥰 of you @elonmusk 🚀🛰🥇🌎\n",
      "2019-07-24 23:59:10 Watch SpaceX's StarHopper hop 20 meters untethered! https://t.co/DgCECh5XPK via @YouTube\n",
      "2019-07-24 23:59:08 RT @BocaChicaGal: Venting stopped a bit ago and it's really quiet. SpaceX workers are pulling up to watch StarHopper hop. ❤StarHopper ❤\n",
      "2019-07-24 23:59:05 @RenataKonkoly @Desperation2 @marialauraadr @elonmusk @NASAKennedy @SpaceX @Space_Station Ha ha, ok 👌 good night 💤😴\n",
      "2019-07-24 23:59:04 RT @CNNBusiness: In the name of STEM education, Nickelodeon is placing a package of slime in a SpaceX Dragon capsule and flying it to the I…\n",
      "2019-07-24 23:59:02 RT @CNNBusiness: In the name of STEM education, Nickelodeon is placing a package of slime in a SpaceX Dragon capsule and flying it to the I…\n",
      "2019-07-24 23:58:48 RT @Teslarati: SpaceX testing ceramic Starship heat shield tiles on flight-proven CRS-18 Cargo Dragon\n",
      "https://t.co/X4lQUdPD8h\n",
      "2019-07-24 23:58:46 RT @BocaChicaGal: Venting stopped a bit ago and it's really quiet. SpaceX workers are pulling up to watch StarHopper hop. ❤StarHopper ❤\n",
      "2019-07-24 23:58:46 SpaceX CRS-18 pre-launch press conference – Spaceflight Now https://t.co/R9URsPb6jt\n",
      "2019-07-24 23:58:40 RT @NASAKennedy: When @SpaceX’s #Dragon 🐉 launches on the company’s 18th resupply mission to the @Space_Station, it will have the #Apollo50…\n",
      "2019-07-24 23:58:39 @elonmusk @NASA @NASAJPL @SpaceX @esa @esaoperations @richardbranson @blueorigin @Space_Station @CornwallSpace… https://t.co/6chX6jLFev\n",
      "2019-07-24 23:58:21 RT @BocaChicaGal: Venting stopped a bit ago and it's really quiet. SpaceX workers are pulling up to watch StarHopper hop. ❤StarHopper ❤\n",
      "2019-07-24 23:58:21 RT @NASAKennedy: When @SpaceX’s #Dragon 🐉 launches on the company’s 18th resupply mission to the @Space_Station, it will have the #Apollo50…\n",
      "2019-07-24 23:58:19 RT @BocaChicaGal: SpaceX has their drone up to make sure the perimeter is secure. 😉🔥🚀🔥\n",
      "2019-07-24 23:58:16 @Benshooter How’s the roadster spaceX rocket thruster behind the license plate product coming along? Did that get a mention?\n",
      "2019-07-24 23:58:14 RT @BocaChicaGal: Venting stopped a bit ago and it's really quiet. SpaceX workers are pulling up to watch StarHopper hop. ❤StarHopper ❤\n",
      "2019-07-24 23:58:10 RT @CNNBusiness: In the name of STEM education, Nickelodeon is placing a package of slime in a SpaceX Dragon capsule and flying it to the I…\n",
      "2019-07-24 23:57:58 Venting stopped a bit ago and it's really quiet. SpaceX workers are pulling up to watch StarHopper hop. ❤StarHopper ❤\n",
      "2019-07-24 23:57:48 RT @Teslarati: SpaceX testing ceramic Starship heat shield tiles on flight-proven CRS-18 Cargo Dragon\n",
      "https://t.co/X4lQUdPD8h\n",
      "2019-07-24 23:57:43 RT @NASAKennedy: We are less than an hour from the launch of @SpaceX’s 18th resupply mission to the @Space_Station.\n",
      "\n",
      "Live coverage begins a…\n",
      "2019-07-24 23:57:40 RT @Teslarati: SpaceX's Starhopper on track for hover test debut after Cargo Dragon CRS-18 scrubbed by stormy weather\n",
      "https://t.co/ltHbumfU…\n",
      "2019-07-24 23:57:36 @TalkofTville @Erdayastronaut @SpaceX @elonmusk Nope\n",
      "2019-07-24 23:57:14 RT @Space_Station: Launch of the @SpaceX CRS-18 mission has been scrubbed due to unfavorable weather conditions. Launch is now scheduled fo…\n",
      "2019-07-24 23:56:56 @NASAKennedy @SpaceX @Space_Station Last time Dragon looked like a burnt marshmallow after reentry. How did they ge… https://t.co/P3T7qpX2Aw\n",
      "2019-07-24 23:56:55 @NASA @SpaceX @ISS_Research Why are we sending Nickelodeon slime to space that's just weird 😑\n",
      "2019-07-24 23:56:53 RT @MatthewBTravis: Watching @Erdayastronaut's livestream of the @SpaceX #Starhopper test https://t.co/xKczIj7XmU\n",
      "2019-07-24 23:56:53 RT @Space_Station: Launch of the @SpaceX CRS-18 mission has been scrubbed due to unfavorable weather conditions. Launch is now scheduled fo…\n",
      "2019-07-24 23:56:36 RT @NASAKennedy: When @SpaceX’s #Dragon 🐉 launches on the company’s 18th resupply mission to the @Space_Station, it will have the #Apollo50…\n",
      "2019-07-24 23:56:34 RT @NASA: LIVE: Experts from @SpaceX, @NASAKennedy, @Space_Station and @45thSpaceWing provide an update about today’s 6:24pm ET rocket laun…\n",
      "2019-07-24 23:56:29 RT @NASAKennedy: When @SpaceX’s #Dragon 🐉 launches on the company’s 18th resupply mission to the @Space_Station, it will have the #Apollo50…\n",
      "2019-07-24 23:56:19 SpaceX forced to cancel CRS-18 Falcon 9 rocket launch due to weather https://t.co/BARt97ZSlf\n",
      "2019-07-24 23:56:10 RT @Space_Station: Launch of the @SpaceX CRS-18 mission has been scrubbed due to unfavorable weather conditions. Launch is now scheduled fo…\n",
      "2019-07-24 23:56:04 RT @NASA: Today’s launch of @SpaceX’s #Dragon spacecraft was scrubbed due to unfavorable weather conditions. The launch is now targeted for…\n",
      "2019-07-24 23:56:03 SpaceX Finally Knows Why Its Crew Dragon Exploded | Crewed Flight This Y... https://t.co/9FgsW0965D via @YouTube\n",
      "2019-07-24 23:55:50 RT @CNNBusiness: In the name of STEM education, Nickelodeon is placing a package of slime in a SpaceX Dragon capsule and flying it to the I…\n",
      "2019-07-24 23:55:47 RT @CNNBusiness: In the name of STEM education, Nickelodeon is placing a package of slime in a SpaceX Dragon capsule and flying it to the I…\n",
      "2019-07-24 23:55:43 @SpaceX Scripted\n",
      "2019-07-24 23:55:30 @elonmusk @NASAKennedy @SpaceX @Space_Station ln(e) is I exist... ln(e)  is enlightenment... ln(e) means you felt b… https://t.co/vxD9NMthUi\n",
      "2019-07-24 23:55:22 RT @ISS_CASIS: Slime in space? Yes! Take a look behind the scenes as researchers prepare to send Nickelodeon's iconic slime to the ISS Nati…\n",
      "2019-07-24 23:55:15 RT @bullfrogpower: The Florida sun wasn't on @NASA's side today! ⛈️ We'll have to wait another day before revealing what #bullfrogpowered i…\n",
      "2019-07-24 23:55:12 RT @Space_Station: Launch of the @SpaceX CRS-18 mission has been scrubbed due to unfavorable weather conditions. Launch is now scheduled fo…\n",
      "2019-07-24 23:55:08 @SilverEagleDev Like, falcon heavy, the first spacex crew mission, etc, they close down the entire visitors complex… https://t.co/o76VElbj0a\n",
      "2019-07-24 23:55:06 RT @CNNBusiness: In the name of STEM education, Nickelodeon is placing a package of slime in a SpaceX Dragon capsule and flying it to the I…\n",
      "2019-07-24 23:55:03 Gutted to get within T-30 seconds of watching my first @SpaceX Falcon 9 launch from Titusville. 🤞the weather holds… https://t.co/JoSvyiGoJc\n",
      "2019-07-24 23:55:03 @mayemusk @SpaceX Tomorrow , 24 hours\n",
      "2019-07-24 23:54:59 RT @SpaceX: Falcon 9 and Dragon are vertical ahead of tonight’s resupply mission to the @Space_Station. Weather is 30% favorable for the in…\n",
      "2019-07-24 23:54:58 RT @CNNBusiness: In the name of STEM education, Nickelodeon is placing a package of slime in a SpaceX Dragon capsule and flying it to the I…\n"
     ]
    }
   ],
   "source": [
    "import tweepy\n",
    "api = tweepy.API(auth)\n",
    "for tweet in tweepy.Cursor(api.search,\n",
    "                           q=\"spacex\",\n",
    "                           since=\"2019-07-24\",\n",
    "                           until=\"2019-07-25\",\n",
    "                           lang=\"en\").items(50):\n",
    "    print (tweet.created_at, tweet.text)"
   ]
  },
  {
   "cell_type": "code",
   "execution_count": 17,
   "metadata": {},
   "outputs": [
    {
     "data": {
      "text/plain": [
       "[TextBlob(\"Alien 1 Hey I went out for a spin today and found slime and a soccer ballAlien 2 Let me guessfrom earth rig\"),\n",
       " TextBlob(\"Aw a kind gentleman wearing a SpaceX tshirt told me I wasnt allowed through BocaChica road before even driving\"),\n",
       " TextBlob(\"SpaceX scrubs launch attempt from Cape Canaveral due to weather SpaceX Falcon9 via\"),\n",
       " TextBlob(\"SpaceX s Starhopper eventually to be destined for Mars is having its historic first test launch today Livestre\"),\n",
       " TextBlob(\"elonmusk Starship SpaceX On my way to SpaceX Boca Chica Lets see if Im able to see Starship Hop from a dist\"),\n",
       " TextBlob(\"So good to see austinbarnard45 BocaChicaGal and the rest of the community coming together to create the coverage\"),\n",
       " TextBlob(\"So the Dragon Spacecraft will be launched to the ISS today New scientific experiment will be conducted on the ISS\"),\n",
       " TextBlob(\"How to watch star hopper on 3 screens D starhopper spacex\"),\n",
       " TextBlob(\"Almost a go It was a NO Either way it was great to take a chance with rocket science Until tomorrow\"),\n",
       " TextBlob(\"A few bonus shots setting up for tonights SpaceX CRS18 launch pelicans lighthouse LC46 rainbow\"),\n",
       " TextBlob(\"The window is now open and it looks like prop load has begunStarhopper SpaceX\"),\n",
       " TextBlob(\"It was still pretty cool that I was able to follow the countdown on my phone and listen to the webcast through the\"),\n",
       " TextBlob(\"And Hold Hold Hold means Scrub Scrub Scrub for tonights SpaceX launch to the International Space Station Fun\"),\n",
       " TextBlob(\"weather dont minus 7 minutes and research investigations the weather might be within the falcon9 spacex nasa crs18\"),\n",
       " TextBlob(\"New Podcast The Podheads EP 13 Nuralink on Spreaker atlanta cannabis elonmusk fooddeserts news\"),\n",
       " TextBlob(\"Weather postpones SpaceX launch of supplies to space station\"),\n",
       " TextBlob(\"dragon looking for clear weather spaceX\"),\n",
       " TextBlob(\"spacex falcon9 crs18 scrubbed\"),\n",
       " TextBlob(\"My Space Nerd heart is broken SpaceX Launch is scrubbed till tomorrow at 601 and I will be back in NOLA So gra\"),\n",
       " TextBlob(\"SpaceX is planning to perform a hop where the Starhopper space vehicle is detached from its tethers and allowed\")]"
      ]
     },
     "execution_count": 17,
     "metadata": {},
     "output_type": "execute_result"
    }
   ],
   "source": [
    "import tweepy as tw\n",
    "search_term = \"#spacex -filter:retweets\"\n",
    "\n",
    "tweets = tw.Cursor(api.search,\n",
    "                   q=search_term,\n",
    "                   lang=\"en\",\n",
    "                   since='2019-07-24', until='2019-07-25').items(250)\n",
    "\n",
    "# Remove URLs and create textblob object for each tweet\n",
    "all_tweets_no_urls = [TextBlob(remove_url(tweet.text)) for tweet in tweets]\n",
    "\n",
    "all_tweets_no_urls[:20]"
   ]
  },
  {
   "cell_type": "code",
   "execution_count": 18,
   "metadata": {},
   "outputs": [
    {
     "data": {
      "text/html": [
       "<div>\n",
       "<style scoped>\n",
       "    .dataframe tbody tr th:only-of-type {\n",
       "        vertical-align: middle;\n",
       "    }\n",
       "\n",
       "    .dataframe tbody tr th {\n",
       "        vertical-align: top;\n",
       "    }\n",
       "\n",
       "    .dataframe thead th {\n",
       "        text-align: right;\n",
       "    }\n",
       "</style>\n",
       "<table border=\"1\" class=\"dataframe\">\n",
       "  <thead>\n",
       "    <tr style=\"text-align: right;\">\n",
       "      <th></th>\n",
       "      <th>polarity</th>\n",
       "      <th>tweet</th>\n",
       "    </tr>\n",
       "  </thead>\n",
       "  <tbody>\n",
       "    <tr>\n",
       "      <th>0</th>\n",
       "      <td>-0.250</td>\n",
       "      <td>Alien 1 Hey I went out for a spin today and fo...</td>\n",
       "    </tr>\n",
       "    <tr>\n",
       "      <th>1</th>\n",
       "      <td>0.600</td>\n",
       "      <td>Aw a kind gentleman wearing a SpaceX tshirt to...</td>\n",
       "    </tr>\n",
       "    <tr>\n",
       "      <th>2</th>\n",
       "      <td>-0.125</td>\n",
       "      <td>SpaceX scrubs launch attempt from Cape Canaver...</td>\n",
       "    </tr>\n",
       "    <tr>\n",
       "      <th>3</th>\n",
       "      <td>0.125</td>\n",
       "      <td>SpaceX s Starhopper eventually to be destined ...</td>\n",
       "    </tr>\n",
       "    <tr>\n",
       "      <th>4</th>\n",
       "      <td>0.500</td>\n",
       "      <td>elonmusk Starship SpaceX On my way to SpaceX B...</td>\n",
       "    </tr>\n",
       "  </tbody>\n",
       "</table>\n",
       "</div>"
      ],
      "text/plain": [
       "   polarity                                              tweet\n",
       "0    -0.250  Alien 1 Hey I went out for a spin today and fo...\n",
       "1     0.600  Aw a kind gentleman wearing a SpaceX tshirt to...\n",
       "2    -0.125  SpaceX scrubs launch attempt from Cape Canaver...\n",
       "3     0.125  SpaceX s Starhopper eventually to be destined ...\n",
       "4     0.500  elonmusk Starship SpaceX On my way to SpaceX B..."
      ]
     },
     "execution_count": 18,
     "metadata": {},
     "output_type": "execute_result"
    }
   ],
   "source": [
    "# Calculate polarity of tweets\n",
    "wild_sent_values = [[tweet.sentiment.polarity, str(tweet)] for tweet in all_tweets_no_urls]\n",
    "\n",
    "# Create dataframe containing polarity values and tweet text\n",
    "wild_sent_df = pd.DataFrame(wild_sent_values, columns=[\"polarity\", \"tweet\"])\n",
    "wild_sent_df = wild_sent_df[wild_sent_df.polarity != 0]\n",
    "\n",
    "wild_sent_df.head()"
   ]
  },
  {
   "cell_type": "code",
   "execution_count": 19,
   "metadata": {},
   "outputs": [
    {
     "data": {
      "image/png": "[encoded data removed]",
      "text/plain": [
       "<Figure size 576x432 with 1 Axes>"
      ]
     },
     "metadata": {
      "needs_background": "light"
     },
     "output_type": "display_data"
    }
   ],
   "source": [
    "fig, ax = plt.subplots(figsize=(8, 6))\n",
    "\n",
    "wild_sent_df.hist(bins=[-1, -0.75, -0.5, -0.25, 0, 0.25, 0.5, 0.75, 1],\n",
    "        ax=ax, color=\"purple\")\n",
    "\n",
    "plt.title(\"Sentiments from Tweets on the spacex\")\n",
    "plt.show()"
   ]
  },
  {
   "cell_type": "code",
   "execution_count": null,
   "metadata": {},
   "outputs": [],
   "source": []
  }
 ],
 "metadata": {
  "kernelspec": {
   "display_name": "Python 3",
   "language": "python",
   "name": "python3"
  },
  "language_info": {
   "codemirror_mode": {
    "name": "ipython",
    "version": 3
   },
   "file_extension": ".py",
   "mimetype": "text/x-python",
   "name": "python",
   "nbconvert_exporter": "python",
   "pygments_lexer": "ipython3",
   "version": "3.7.3"
  }
 },
 "nbformat": 4,
 "nbformat_minor": 4
}
