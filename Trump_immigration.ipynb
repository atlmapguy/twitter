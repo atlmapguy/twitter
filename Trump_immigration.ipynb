{
 "cells": [
  {
   "cell_type": "code",
   "execution_count": 1,
   "metadata": {},
   "outputs": [
    {
     "name": "stdout",
     "output_type": "stream",
     "text": [
      "Collecting tweepy\n",
      "  Downloading https://files.pythonhosted.org/packages/36/1b/2bd38043d22ade352fc3d3902cf30ce0e2f4bf285be3b304a2782a767aec/tweepy-3.8.0-py2.py3-none-any.whl\n",
      "Requirement already satisfied: six>=1.10.0 in /srv/conda/envs/notebook/lib/python3.7/site-packages (from tweepy) (1.12.0)\n",
      "Requirement already satisfied: requests>=2.11.1 in /srv/conda/envs/notebook/lib/python3.7/site-packages (from tweepy) (2.22.0)\n",
      "Collecting requests-oauthlib>=0.7.0 (from tweepy)\n",
      "  Downloading https://files.pythonhosted.org/packages/c2/e2/9fd03d55ffb70fe51f587f20bcf407a6927eb121de86928b34d162f0b1ac/requests_oauthlib-1.2.0-py2.py3-none-any.whl\n",
      "Collecting PySocks>=1.5.7 (from tweepy)\n",
      "  Downloading https://files.pythonhosted.org/packages/cd/18/102cc70347486e75235a29a6543f002cf758042189cb063ec25334993e36/PySocks-1.7.0-py3-none-any.whl\n",
      "Requirement already satisfied: urllib3!=1.25.0,!=1.25.1,<1.26,>=1.21.1 in /srv/conda/envs/notebook/lib/python3.7/site-packages (from requests>=2.11.1->tweepy) (1.25.3)\n",
      "Requirement already satisfied: chardet<3.1.0,>=3.0.2 in /srv/conda/envs/notebook/lib/python3.7/site-packages (from requests>=2.11.1->tweepy) (3.0.4)\n",
      "Requirement already satisfied: idna<2.9,>=2.5 in /srv/conda/envs/notebook/lib/python3.7/site-packages (from requests>=2.11.1->tweepy) (2.8)\n",
      "Requirement already satisfied: certifi>=2017.4.17 in /srv/conda/envs/notebook/lib/python3.7/site-packages (from requests>=2.11.1->tweepy) (2019.6.16)\n",
      "Requirement already satisfied: oauthlib>=3.0.0 in /srv/conda/envs/notebook/lib/python3.7/site-packages (from requests-oauthlib>=0.7.0->tweepy) (3.0.1)\n",
      "Installing collected packages: requests-oauthlib, PySocks, tweepy\n",
      "Successfully installed PySocks-1.7.0 requests-oauthlib-1.2.0 tweepy-3.8.0\n",
      "Note: you may need to restart the kernel to use updated packages.\n"
     ]
    }
   ],
   "source": [
    "pip install tweepy"
   ]
  },
  {
   "cell_type": "code",
   "execution_count": 2,
   "metadata": {},
   "outputs": [
    {
     "name": "stdout",
     "output_type": "stream",
     "text": [
      "Requirement already satisfied: pandas in /srv/conda/envs/notebook/lib/python3.7/site-packages (0.24.2)\n",
      "Requirement already satisfied: python-dateutil>=2.5.0 in /srv/conda/envs/notebook/lib/python3.7/site-packages (from pandas) (2.8.0)\n",
      "Requirement already satisfied: numpy>=1.12.0 in /srv/conda/envs/notebook/lib/python3.7/site-packages (from pandas) (1.16.4)\n",
      "Requirement already satisfied: pytz>=2011k in /srv/conda/envs/notebook/lib/python3.7/site-packages (from pandas) (2019.1)\n",
      "Requirement already satisfied: six>=1.5 in /srv/conda/envs/notebook/lib/python3.7/site-packages (from python-dateutil>=2.5.0->pandas) (1.12.0)\n",
      "Note: you may need to restart the kernel to use updated packages.\n"
     ]
    }
   ],
   "source": [
    "pip install pandas"
   ]
  },
  {
   "cell_type": "code",
   "execution_count": 3,
   "metadata": {},
   "outputs": [
    {
     "name": "stdout",
     "output_type": "stream",
     "text": [
      "Requirement already satisfied: matplotlib in /srv/conda/envs/notebook/lib/python3.7/site-packages (3.1.1)\n",
      "Requirement already satisfied: kiwisolver>=1.0.1 in /srv/conda/envs/notebook/lib/python3.7/site-packages (from matplotlib) (1.1.0)\n",
      "Requirement already satisfied: pyparsing!=2.0.4,!=2.1.2,!=2.1.6,>=2.0.1 in /srv/conda/envs/notebook/lib/python3.7/site-packages (from matplotlib) (2.4.0)\n",
      "Requirement already satisfied: python-dateutil>=2.1 in /srv/conda/envs/notebook/lib/python3.7/site-packages (from matplotlib) (2.8.0)\n",
      "Requirement already satisfied: numpy>=1.11 in /srv/conda/envs/notebook/lib/python3.7/site-packages (from matplotlib) (1.16.4)\n",
      "Requirement already satisfied: cycler>=0.10 in /srv/conda/envs/notebook/lib/python3.7/site-packages (from matplotlib) (0.10.0)\n",
      "Requirement already satisfied: setuptools in /srv/conda/envs/notebook/lib/python3.7/site-packages (from kiwisolver>=1.0.1->matplotlib) (41.0.1)\n",
      "Requirement already satisfied: six>=1.5 in /srv/conda/envs/notebook/lib/python3.7/site-packages (from python-dateutil>=2.1->matplotlib) (1.12.0)\n",
      "Note: you may need to restart the kernel to use updated packages.\n"
     ]
    }
   ],
   "source": [
    "pip install matplotlib"
   ]
  },
  {
   "cell_type": "code",
   "execution_count": 4,
   "metadata": {},
   "outputs": [
    {
     "name": "stdout",
     "output_type": "stream",
     "text": [
      "Requirement already satisfied: seaborn in /srv/conda/envs/notebook/lib/python3.7/site-packages (0.9.0)\n",
      "Requirement already satisfied: matplotlib>=1.4.3 in /srv/conda/envs/notebook/lib/python3.7/site-packages (from seaborn) (3.1.1)\n",
      "Requirement already satisfied: scipy>=0.14.0 in /srv/conda/envs/notebook/lib/python3.7/site-packages (from seaborn) (1.3.0)\n",
      "Requirement already satisfied: numpy>=1.9.3 in /srv/conda/envs/notebook/lib/python3.7/site-packages (from seaborn) (1.16.4)\n",
      "Requirement already satisfied: pandas>=0.15.2 in /srv/conda/envs/notebook/lib/python3.7/site-packages (from seaborn) (0.24.2)\n",
      "Requirement already satisfied: python-dateutil>=2.1 in /srv/conda/envs/notebook/lib/python3.7/site-packages (from matplotlib>=1.4.3->seaborn) (2.8.0)\n",
      "Requirement already satisfied: cycler>=0.10 in /srv/conda/envs/notebook/lib/python3.7/site-packages (from matplotlib>=1.4.3->seaborn) (0.10.0)\n",
      "Requirement already satisfied: kiwisolver>=1.0.1 in /srv/conda/envs/notebook/lib/python3.7/site-packages (from matplotlib>=1.4.3->seaborn) (1.1.0)\n",
      "Requirement already satisfied: pyparsing!=2.0.4,!=2.1.2,!=2.1.6,>=2.0.1 in /srv/conda/envs/notebook/lib/python3.7/site-packages (from matplotlib>=1.4.3->seaborn) (2.4.0)\n",
      "Requirement already satisfied: pytz>=2011k in /srv/conda/envs/notebook/lib/python3.7/site-packages (from pandas>=0.15.2->seaborn) (2019.1)\n",
      "Requirement already satisfied: six>=1.5 in /srv/conda/envs/notebook/lib/python3.7/site-packages (from python-dateutil>=2.1->matplotlib>=1.4.3->seaborn) (1.12.0)\n",
      "Requirement already satisfied: setuptools in /srv/conda/envs/notebook/lib/python3.7/site-packages (from kiwisolver>=1.0.1->matplotlib>=1.4.3->seaborn) (41.0.1)\n",
      "Note: you may need to restart the kernel to use updated packages.\n"
     ]
    }
   ],
   "source": [
    "pip install seaborn"
   ]
  },
  {
   "cell_type": "code",
   "execution_count": 5,
   "metadata": {},
   "outputs": [
    {
     "name": "stdout",
     "output_type": "stream",
     "text": [
      "Collecting nltk\n",
      "\u001b[?25l  Downloading https://files.pythonhosted.org/packages/87/16/4d247e27c55a7b6412e7c4c86f2500ae61afcbf5932b9e3491f8462f8d9e/nltk-3.4.4.zip (1.5MB)\n",
      "\u001b[K     |████████████████████████████████| 1.5MB 3.3MB/s eta 0:00:01\n",
      "\u001b[?25hRequirement already satisfied: six in /srv/conda/envs/notebook/lib/python3.7/site-packages (from nltk) (1.12.0)\n",
      "Building wheels for collected packages: nltk\n",
      "  Building wheel for nltk (setup.py) ... \u001b[?25ldone\n",
      "\u001b[?25h  Stored in directory: /home/jovyan/.cache/pip/wheels/41/c8/31/48ace4468e236e0e8435f30d33e43df48594e4d53e367cf061\n",
      "Successfully built nltk\n",
      "Installing collected packages: nltk\n",
      "Successfully installed nltk-3.4.4\n",
      "Note: you may need to restart the kernel to use updated packages.\n"
     ]
    }
   ],
   "source": [
    "pip install nltk"
   ]
  },
  {
   "cell_type": "code",
   "execution_count": 6,
   "metadata": {},
   "outputs": [
    {
     "name": "stdout",
     "output_type": "stream",
     "text": [
      "Collecting textblob\n",
      "\u001b[?25l  Downloading https://files.pythonhosted.org/packages/60/f0/1d9bfcc8ee6b83472ec571406bd0dd51c0e6330ff1a51b2d29861d389e85/textblob-0.15.3-py2.py3-none-any.whl (636kB)\n",
      "\u001b[K     |████████████████████████████████| 645kB 3.4MB/s eta 0:00:01\n",
      "\u001b[?25hRequirement already satisfied: nltk>=3.1 in /srv/conda/envs/notebook/lib/python3.7/site-packages (from textblob) (3.4.4)\n",
      "Requirement already satisfied: six in /srv/conda/envs/notebook/lib/python3.7/site-packages (from nltk>=3.1->textblob) (1.12.0)\n",
      "Installing collected packages: textblob\n",
      "Successfully installed textblob-0.15.3\n",
      "Note: you may need to restart the kernel to use updated packages.\n"
     ]
    }
   ],
   "source": [
    "pip install textblob"
   ]
  },
  {
   "cell_type": "code",
   "execution_count": 7,
   "metadata": {},
   "outputs": [],
   "source": [
    "import pandas as pd\n",
    "import matplotlib.pyplot as plt\n",
    "import seaborn as sns\n",
    "import itertools\n",
    "import collections\n",
    "\n",
    "import tweepy as tw\n",
    "import nltk\n",
    "from nltk.corpus import stopwords\n",
    "import re\n",
    "import networkx\n",
    "from textblob import TextBlob\n",
    "\n",
    "import warnings\n",
    "warnings.filterwarnings(\"ignore\")\n",
    "\n",
    "sns.set(font_scale=1.5)\n",
    "sns.set_style(\"whitegrid\")"
   ]
  },
  {
   "cell_type": "code",
   "execution_count": 8,
   "metadata": {},
   "outputs": [],
   "source": [
    "consumer_key = 'u45ngwHcJhgtCybpctPgO0xMG'\n",
    "consumer_secret = 'RxvvQWvmqLDZs1JLgReM7vD4rq2727MZVLiLlfHr3C9Wsmzw0U'\n",
    "access_token = '879390376691453952-LMqqRPysWOrmyE9q3wDKYHrRftMjIFY'\n",
    "access_secret = 'veZ0v6gJWLHPjtRPSiI3uNzUwKGzJXqPUgEb7Mi3Tn9Qq'"
   ]
  },
  {
   "cell_type": "code",
   "execution_count": 9,
   "metadata": {},
   "outputs": [],
   "source": [
    "auth = tw.OAuthHandler(consumer_key, consumer_secret)\n",
    "auth.set_access_token(access_token, access_secret)\n",
    "api = tw.API(auth, wait_on_rate_limit=True)"
   ]
  },
  {
   "cell_type": "code",
   "execution_count": 20,
   "metadata": {},
   "outputs": [],
   "source": [
    "def remove_url(txt):\n",
    "    \"\"\"Replace URLs found in a text string with nothing \n",
    "    (i.e. it will remove the URL from the string).\n",
    "\n",
    "    Parameters\n",
    "    ----------\n",
    "    txt : string\n",
    "        A text string that you want to parse and remove urls.\n",
    "\n",
    "    Returns\n",
    "    -------\n",
    "    The same txt string with url's removed.\n",
    "    \"\"\"\n",
    "\n",
    "    return \" \".join(re.sub(\"([^0-9A-Za-z \\t])|(\\w+:\\/\\/\\S+)\", \"\", txt).split())\n",
    "# Create a custom search term and define the number of tweets\n",
    "search_term = \"#Trump+immigration -filter:retweets\"\n",
    "\n",
    "tweets = tw.Cursor(api.search, q=search_term, lang=\"en\", since='2019-07-23', until='2019-07-24').items(500)\n",
    "\n",
    "# Remove URLs\n",
    "tweets_no_urls = [remove_url(tweet.text) for tweet in tweets]"
   ]
  },
  {
   "cell_type": "code",
   "execution_count": 11,
   "metadata": {},
   "outputs": [
    {
     "data": {
      "text/plain": [
       "TextBlob(\"trees and Nativeforests are immensely valuable SaveOurNativeForests ecocide is a crime against humanity\")"
      ]
     },
     "execution_count": 11,
     "metadata": {},
     "output_type": "execute_result"
    }
   ],
   "source": [
    "# Create textblob objects of the tweets\n",
    "sentiment_objects = [TextBlob(tweet) for tweet in tweets_no_urls]\n",
    "\n",
    "sentiment_objects[0].polarity, sentiment_objects[0]\n",
    "\n",
    "TextBlob(\"trees and Nativeforests are immensely valuable SaveOurNativeForests ecocide is a crime against humanity\")"
   ]
  },
  {
   "cell_type": "code",
   "execution_count": 12,
   "metadata": {},
   "outputs": [
    {
     "data": {
      "text/plain": [
       "[0.0,\n",
       " 'trees and Nativeforests are immensely valuable SaveOurNativeForests ecocide is a crime against humanity']"
      ]
     },
     "execution_count": 12,
     "metadata": {},
     "output_type": "execute_result"
    }
   ],
   "source": [
    "# Create list of polarity valuesx and tweet text\n",
    "sentiment_values = [[tweet.sentiment.polarity, str(tweet)] for tweet in sentiment_objects]\n",
    "\n",
    "sentiment_values[0]\n",
    "[0.0,\n",
    " 'trees and Nativeforests are immensely valuable SaveOurNativeForests ecocide is a crime against humanity']"
   ]
  },
  {
   "cell_type": "code",
   "execution_count": 13,
   "metadata": {},
   "outputs": [
    {
     "data": {
      "text/html": [
       "<div>\n",
       "<style scoped>\n",
       "    .dataframe tbody tr th:only-of-type {\n",
       "        vertical-align: middle;\n",
       "    }\n",
       "\n",
       "    .dataframe tbody tr th {\n",
       "        vertical-align: top;\n",
       "    }\n",
       "\n",
       "    .dataframe thead th {\n",
       "        text-align: right;\n",
       "    }\n",
       "</style>\n",
       "<table border=\"1\" class=\"dataframe\">\n",
       "  <thead>\n",
       "    <tr style=\"text-align: right;\">\n",
       "      <th></th>\n",
       "      <th>polarity</th>\n",
       "      <th>tweet</th>\n",
       "    </tr>\n",
       "  </thead>\n",
       "  <tbody>\n",
       "    <tr>\n",
       "      <th>0</th>\n",
       "      <td>0.0</td>\n",
       "      <td>SenBillCassidy GooseGoodingIII Would be helpfu...</td>\n",
       "    </tr>\n",
       "    <tr>\n",
       "      <th>1</th>\n",
       "      <td>0.0</td>\n",
       "      <td>PortlandPolice Whats up with this No arrests W...</td>\n",
       "    </tr>\n",
       "    <tr>\n",
       "      <th>2</th>\n",
       "      <td>0.0</td>\n",
       "      <td>Dimms and Socialists Antifa and AntiAmericans ...</td>\n",
       "    </tr>\n",
       "    <tr>\n",
       "      <th>3</th>\n",
       "      <td>0.0</td>\n",
       "      <td>AmericaDecide POTUS Antifa covers their faces ...</td>\n",
       "    </tr>\n",
       "    <tr>\n",
       "      <th>4</th>\n",
       "      <td>0.0</td>\n",
       "      <td>These are communists just like antifa</td>\n",
       "    </tr>\n",
       "  </tbody>\n",
       "</table>\n",
       "</div>"
      ],
      "text/plain": [
       "   polarity                                              tweet\n",
       "0       0.0  SenBillCassidy GooseGoodingIII Would be helpfu...\n",
       "1       0.0  PortlandPolice Whats up with this No arrests W...\n",
       "2       0.0  Dimms and Socialists Antifa and AntiAmericans ...\n",
       "3       0.0  AmericaDecide POTUS Antifa covers their faces ...\n",
       "4       0.0              These are communists just like antifa"
      ]
     },
     "execution_count": 13,
     "metadata": {},
     "output_type": "execute_result"
    }
   ],
   "source": [
    "# Create dataframe containing the polarity value and tweet text\n",
    "sentiment_df = pd.DataFrame(sentiment_values, columns=[\"polarity\", \"tweet\"])\n",
    "\n",
    "sentiment_df.head()"
   ]
  },
  {
   "cell_type": "code",
   "execution_count": 14,
   "metadata": {},
   "outputs": [
    {
     "data": {
      "image/png": "[encoded data removed]",
      "text/plain": [
       "<Figure size 576x432 with 1 Axes>"
      ]
     },
     "metadata": {
      "needs_background": "light"
     },
     "output_type": "display_data"
    }
   ],
   "source": [
    "fig, ax = plt.subplots(figsize=(8, 6))\n",
    "\n",
    "# Plot histogram of the polarity values\n",
    "sentiment_df.hist(bins=[-1, -0.75, -0.5, -0.25, 0.25, 0.5, 0.75, 1],\n",
    "             ax=ax,\n",
    "             color=\"purple\")\n",
    "\n",
    "plt.title(\"Sentiments from Tweets on Antifa\")\n",
    "plt.show()"
   ]
  },
  {
   "cell_type": "code",
   "execution_count": 15,
   "metadata": {},
   "outputs": [
    {
     "name": "stdout",
     "output_type": "stream",
     "text": [
      "Requirement already satisfied: tweepy in /srv/conda/envs/notebook/lib/python3.7/site-packages (3.8.0)\n",
      "Requirement already satisfied: requests-oauthlib>=0.7.0 in /srv/conda/envs/notebook/lib/python3.7/site-packages (from tweepy) (1.2.0)\n",
      "Requirement already satisfied: PySocks>=1.5.7 in /srv/conda/envs/notebook/lib/python3.7/site-packages (from tweepy) (1.7.0)\n",
      "Requirement already satisfied: requests>=2.11.1 in /srv/conda/envs/notebook/lib/python3.7/site-packages (from tweepy) (2.22.0)\n",
      "Requirement already satisfied: six>=1.10.0 in /srv/conda/envs/notebook/lib/python3.7/site-packages (from tweepy) (1.12.0)\n",
      "Requirement already satisfied: oauthlib>=3.0.0 in /srv/conda/envs/notebook/lib/python3.7/site-packages (from requests-oauthlib>=0.7.0->tweepy) (3.0.1)\n",
      "Requirement already satisfied: chardet<3.1.0,>=3.0.2 in /srv/conda/envs/notebook/lib/python3.7/site-packages (from requests>=2.11.1->tweepy) (3.0.4)\n",
      "Requirement already satisfied: certifi>=2017.4.17 in /srv/conda/envs/notebook/lib/python3.7/site-packages (from requests>=2.11.1->tweepy) (2019.6.16)\n",
      "Requirement already satisfied: urllib3!=1.25.0,!=1.25.1,<1.26,>=1.21.1 in /srv/conda/envs/notebook/lib/python3.7/site-packages (from requests>=2.11.1->tweepy) (1.25.3)\n",
      "Requirement already satisfied: idna<2.9,>=2.5 in /srv/conda/envs/notebook/lib/python3.7/site-packages (from requests>=2.11.1->tweepy) (2.8)\n",
      "Note: you may need to restart the kernel to use updated packages.\n"
     ]
    }
   ],
   "source": [
    "pip install tweepy"
   ]
  },
  {
   "cell_type": "code",
   "execution_count": 16,
   "metadata": {},
   "outputs": [
    {
     "name": "stdout",
     "output_type": "stream",
     "text": [
      "2019-07-21 23:59:58 RT @mir0ndy: Do you know how dangerous this is? Antifa is not an organisation. This means they can effectively call anyone they want - anyo…\n",
      "2019-07-21 23:59:57 RT @MrAndyNgo: At this year's Portland \"Womxn's March,\" Luis Marquez cursed me out while another female (unsuccessfully) tried to again hol…\n",
      "2019-07-21 23:59:57 RT @RealJack: Antifa army in Berkeley warns “NO PHOTOS!”\n",
      "\n",
      "This is the new KKK, sponsored once again by the Democrat party.\n",
      "\n",
      "Funny how histo…\n",
      "2019-07-21 23:59:57 RT @DrNealHouston: @HumaneFreedom @Serremmy @la700 @Okie08 @crzydug @Sekusa1 @BDMR22 @venmur1 @JoeTexas3 @rottaerkki @RodHillis1 @Credo5454…\n",
      "2019-07-21 23:59:56 RT @RealJack: Antifa army in Berkeley warns “NO PHOTOS!”\n",
      "\n",
      "This is the new KKK, sponsored once again by the Democrat party.\n",
      "\n",
      "Funny how histo…\n",
      "2019-07-21 23:59:56 RT @FaithGoldy: Maxime Bernier is expected to release his immigration plan this Wednesday in Mississauga.\n",
      "\n",
      "Antifa is expected to protest ou…\n",
      "2019-07-21 23:59:55 RT @annimmigrant: Democrats what do you say? And now you’ve got them dressed in Black -Antifa #IStandWithPresTrump @POTUS #KAGA2020 -Red wa…\n",
      "2019-07-21 23:59:54 RT @RealJack: Antifa army in Berkeley warns “NO PHOTOS!”\n",
      "\n",
      "This is the new KKK, sponsored once again by the Democrat party.\n",
      "\n",
      "Funny how histo…\n",
      "2019-07-21 23:59:54 RT @MrAndyNgo: While chanting “no hate,” antifa militants pummeled my head. No police intervened. Portland prides itself on being a sanctua…\n",
      "2019-07-21 23:59:49 RT @QasimRashid: KKK has killed 5000+ Americans since 1865\n",
      "•Not designated as terror org\n",
      "\n",
      "White Nationalists have killed 313+ Americans sin…\n",
      "2019-07-21 23:59:48 RT @PeterSweden7: Think about this.\n",
      "\n",
      "- The kids from Covington catholic got tons of hate and negative press coverage - For smiling.\n",
      "\n",
      "- The…\n",
      "2019-07-21 23:59:47 RT @ravena68: Rashida Tlaib screams in rage as she's escorted from candidate Trump's speech that she repeatedly interrupted  in Detroit in…\n",
      "2019-07-21 23:59:46 RT @mir0ndy: Do you know how dangerous this is? Antifa is not an organisation. This means they can effectively call anyone they want - anyo…\n",
      "2019-07-21 23:59:46 RT @MrAndyNgo: At this year's Portland \"Womxn's March,\" Luis Marquez cursed me out while another female (unsuccessfully) tried to again hol…\n",
      "2019-07-21 23:59:46 RT @MissMaga2016: Is this the CCP’s version of Antifa? https://t.co/bXHcjXsqnA\n",
      "2019-07-21 23:59:45 RT @Michaelb255: @BillPascrell @ADL Bill, you are out of touch...Antifa is a scourge on the USA...not too much more than professional polit…\n",
      "2019-07-21 23:59:44 RT @MrAndyNgo: #Antifa has cheerleaders not only in media but also in mainstream politics. MN attorney general Keith Ellison promoted an an…\n",
      "2019-07-21 23:59:43 RT @MrAndyNgo: I was beaten &amp; robbed on 29 June by at least a dozen masked antifa assailants in downtown Portland. I was hospitalized with…\n",
      "2019-07-21 23:59:43 RT @TheLizMac: @IlhanMN How many more GOP politicians does Ilhan want shot? How many more Antifa riots? How many more mentally ill people n…\n",
      "2019-07-21 23:59:39 RT @MrAndyNgo: I was beaten &amp; robbed on 29 June by at least a dozen masked antifa assailants in downtown Portland. I was hospitalized with…\n",
      "2019-07-21 23:59:38 RT @MrAndyNgo: Video recorded shortly after I was beaten on 29 June in Portland shows how antifa interrogates &amp; terrorizes media they consi…\n",
      "2019-07-21 23:59:38 @SenTedCruz Who has been killed by Antifa?!?!\n",
      "2019-07-21 23:59:36 RT @PeterSweden7: Think about this.\n",
      "\n",
      "- The kids from Covington catholic got tons of hate and negative press coverage - For smiling.\n",
      "\n",
      "- The…\n",
      "2019-07-21 23:59:36 RT @MrAndyNgo: Video recorded shortly after I was beaten on 29 June in Portland shows how antifa interrogates &amp; terrorizes media they consi…\n",
      "2019-07-21 23:59:35 RT @RealJack: Antifa army in Berkeley warns “NO PHOTOS!”\n",
      "\n",
      "This is the new KKK, sponsored once again by the Democrat party.\n",
      "\n",
      "Funny how histo…\n",
      "2019-07-21 23:59:35 RT @MrAndyNgo: Video recorded shortly after I was beaten on 29 June in Portland shows how antifa interrogates &amp; terrorizes media they consi…\n",
      "2019-07-21 23:59:32 RT @MrAndyNgo: #Antifa has cheerleaders not only in media but also in mainstream politics. MN attorney general Keith Ellison promoted an an…\n",
      "2019-07-21 23:59:31 RT @RealJack: Antifa army in Berkeley warns “NO PHOTOS!”\n",
      "\n",
      "This is the new KKK, sponsored once again by the Democrat party.\n",
      "\n",
      "Funny how histo…\n",
      "2019-07-21 23:59:31 RT @PeterSweden7: Think about this.\n",
      "\n",
      "- The kids from Covington catholic got tons of hate and negative press coverage - For smiling.\n",
      "\n",
      "- The…\n",
      "2019-07-21 23:59:30 RT @MrAndyNgo: Video recorded shortly after I was beaten on 29 June in Portland shows how antifa interrogates &amp; terrorizes media they consi…\n",
      "2019-07-21 23:59:30 RT @GlendalePatriot: @lsarsour Who are you holding responsible when #SteveScalise was shot? Or when #Antifa tried to fire bomb the #ICE cen…\n",
      "2019-07-21 23:59:29 RT @DeepStateExpose: @realDonaldTrump \"White Sleeves\" knocks out Antifa guy in slow motion!!! #KAG45\n",
      "https://t.co/TZOik1PlhG\n",
      "2019-07-21 23:59:27 @Aaronj87 @hyjpang @lookner It just came to my mind . In USA you have similar issue with so called Antifa. I am sur… https://t.co/2wdVXDa3i3\n",
      "2019-07-21 23:59:27 @SenBillCassidy @GooseGoodingIII Would be helpful to always mention #ANTIFA literally means, by their words &amp; deeds… https://t.co/r8W2e3tZIw\n",
      "2019-07-21 23:59:26 US antifa has resulted in 1 neo-Nazi killed in self-defense.\n",
      "\n",
      "US fascists have killed 100s of innocent people.\n",
      "\n",
      "The… https://t.co/5FerxdiFCI\n",
      "2019-07-21 23:59:26 Antifa is something someone does not something someone is. \n",
      "\n",
      "The vast majority of antifa work is opposition researc… https://t.co/LvvXi9d76y\n",
      "2019-07-21 23:59:25 Antifa *IS NOT* a formal organization with a leadership and membership.\n",
      "\n",
      "Antifa *IS* a decentralized network of ind… https://t.co/0oZxrSygDM\n",
      "2019-07-21 23:59:23 RT @RealJack: Antifa army in Berkeley warns “NO PHOTOS!”\n",
      "\n",
      "This is the new KKK, sponsored once again by the Democrat party.\n",
      "\n",
      "Funny how histo…\n",
      "2019-07-21 23:59:21 RT @LisaMei62: So sick of all the hand-wringing over the \"send her back\" chants. Where's the outcry over ACTUAL VIOLENCE by Antifa against…\n",
      "2019-07-21 23:59:20 RT @WorldTvlr: SHOCKING, but not, kind of...\n",
      "\n",
      "Top Democrat Tim Kaine's Son Is an Antifa Member - Congratulations Tim, You've Raised a Terro…\n",
      "2019-07-21 23:59:18 @SenTedCruz I'm sorry Antifa is an inconvenience to you. But maybe take a look at your radical Right-wingers and th… https://t.co/bGtApmtQoG\n",
      "2019-07-21 23:59:18 RT @WorldTvlr: SHOCKING, but not, kind of...\n",
      "\n",
      "Top Democrat Tim Kaine's Son Is an Antifa Member - Congratulations Tim, You've Raised a Terro…\n",
      "2019-07-21 23:59:17 RT @MrAndyNgo: I was beaten &amp; robbed on 29 June by at least a dozen masked antifa assailants in downtown Portland. I was hospitalized with…\n",
      "2019-07-21 23:59:17 RT @RealKyleMorris: Republican Sens. @TedCruz and @BillCassidy Introduce Resolution to Label Antifa ‘Domestic Terrorists’ https://t.co/8BQy…\n",
      "2019-07-21 23:59:17 RT @WorldTvlr: SHOCKING, but not, kind of...\n",
      "\n",
      "Top Democrat Tim Kaine's Son Is an Antifa Member - Congratulations Tim, You've Raised a Terro…\n",
      "2019-07-21 23:59:16 RT @ravena68: Rashida Tlaib screams in rage as she's escorted from candidate Trump's speech that she repeatedly interrupted  in Detroit in…\n",
      "2019-07-21 23:59:15 RT @RealJack: Antifa army in Berkeley warns “NO PHOTOS!”\n",
      "\n",
      "This is the new KKK, sponsored once again by the Democrat party.\n",
      "\n",
      "Funny how histo…\n",
      "2019-07-21 23:59:10 @sotiridi Honk Kong has its version of Antifa.\n",
      "2019-07-21 23:59:10 RT @MrAndyNgo: I was beaten &amp; robbed on 29 June by at least a dozen masked antifa assailants in downtown Portland. I was hospitalized with…\n",
      "2019-07-21 23:59:08 RT @RealJack: Antifa army in Berkeley warns “NO PHOTOS!”\n",
      "\n",
      "This is the new KKK, sponsored once again by the Democrat party.\n",
      "\n",
      "Funny how histo…\n"
     ]
    }
   ],
   "source": [
    "import tweepy\n",
    "api = tweepy.API(auth)\n",
    "for tweet in tweepy.Cursor(api.search,\n",
    "                           q=\"Antifa\",\n",
    "                           since=\"2019-07-21\",\n",
    "                           until=\"2019-07-22\",\n",
    "                           lang=\"en\").items(50):\n",
    "    print (tweet.created_at, tweet.text)"
   ]
  },
  {
   "cell_type": "code",
   "execution_count": 17,
   "metadata": {},
   "outputs": [
    {
     "data": {
      "text/plain": [
       "[TextBlob(\"RepMaxineWaters well look at U Queen antifa U litterally R the oldest amp BIGGEST hypocrite in office We dont\"),\n",
       " TextBlob(\"ScottAdamsSays Neither are racist both groups are religious and ideological bigotsantifa Squad TheSquad\"),\n",
       " TextBlob(\"Antifa is no different than Nazi Like half totalitarian brothers\"),\n",
       " TextBlob(\"So Borat director Larry Charles claims that MAGAPeople are embracing violence Im sorry is he under the impre\"),\n",
       " TextBlob(\"charliekirk11 look at the connections and relationshipsthe democrats will never allow it antifa is simply an\"),\n",
       " TextBlob(\"JDoza1 The weak are the ones who uses such disgusting threats Now liberals hv their own Antifa movement as a res\"),\n",
       " TextBlob(\"What a Liar AOC You amp your DemocRAT friends support AntiFa AntiFa Violent ThugsYou have it ALL WRONG Again\"),\n",
       " TextBlob(\"Senate Introduces Bill to Label Antifa Domestic Terrorists\"),\n",
       " TextBlob(\"We all knew this ScottBaio Im sorry you were attacked just for being TrumpSupporter Really tired of Antifa\"),\n",
       " TextBlob(\"AOC Yup he was wrong now lets discuss your antifa homeboy attacking ice because of YOUR rhetoric We all hav\"),\n",
       " TextBlob(\"justinvendetta GodLovesUSA1 DarthTraderFL antifa though\"),\n",
       " TextBlob(\"Emmanuel tells you to grow in the Fed The War Room For Antifa invaded Europe from the opposi Breaking New York City has\"),\n",
       " TextBlob(\"ButbutANTIFA ISLAMTrump Terrorism\"),\n",
       " TextBlob(\"BIG LEAGUE Ted Cruz Introduces Resolution to Name Antifa Domestic Terrorist Organization\"),\n",
       " TextBlob(\"antifa arent the terrorists the WhiteSupremacists are\"),\n",
       " TextBlob(\"starblankets CarpeDonktum Antifa another term for Fascists Nazis\"),\n",
       " TextBlob(\"Would it be presumed racist to ask Why live in America if you disrespect our AmericanFlag and hate America\"),\n",
       " TextBlob(\"Your rhetoric inspired an member of antifa to firebomb ICE Authoritarian behavior indeed\"),\n",
       " TextBlob(\"My father told me that if you dont like something about this country I should leave So I got this book to freak\"),\n",
       " TextBlob(\"Fascists who think theyre antiFascistAntifaTerroristsAntifaPeopleWhoConfuseMe\")]"
      ]
     },
     "execution_count": 17,
     "metadata": {},
     "output_type": "execute_result"
    }
   ],
   "source": [
    "import tweepy as tw\n",
    "search_term = \"#Antifa -filter:retweets\"\n",
    "\n",
    "tweets = tw.Cursor(api.search,\n",
    "                   q=search_term,\n",
    "                   lang=\"en\",\n",
    "                   since='2019-07-22', until='2019-07-23').items(250)\n",
    "\n",
    "# Remove URLs and create textblob object for each tweet\n",
    "all_tweets_no_urls = [TextBlob(remove_url(tweet.text)) for tweet in tweets]\n",
    "\n",
    "all_tweets_no_urls[:20]"
   ]
  },
  {
   "cell_type": "code",
   "execution_count": 18,
   "metadata": {},
   "outputs": [
    {
     "data": {
      "text/html": [
       "<div>\n",
       "<style scoped>\n",
       "    .dataframe tbody tr th:only-of-type {\n",
       "        vertical-align: middle;\n",
       "    }\n",
       "\n",
       "    .dataframe tbody tr th {\n",
       "        vertical-align: top;\n",
       "    }\n",
       "\n",
       "    .dataframe thead th {\n",
       "        text-align: right;\n",
       "    }\n",
       "</style>\n",
       "<table border=\"1\" class=\"dataframe\">\n",
       "  <thead>\n",
       "    <tr style=\"text-align: right;\">\n",
       "      <th></th>\n",
       "      <th>polarity</th>\n",
       "      <th>tweet</th>\n",
       "    </tr>\n",
       "  </thead>\n",
       "  <tbody>\n",
       "    <tr>\n",
       "      <th>2</th>\n",
       "      <td>-0.083333</td>\n",
       "      <td>Antifa is no different than Nazi Like half tot...</td>\n",
       "    </tr>\n",
       "    <tr>\n",
       "      <th>3</th>\n",
       "      <td>-0.500000</td>\n",
       "      <td>So Borat director Larry Charles claims that MA...</td>\n",
       "    </tr>\n",
       "    <tr>\n",
       "      <th>5</th>\n",
       "      <td>-0.193750</td>\n",
       "      <td>JDoza1 The weak are the ones who uses such dis...</td>\n",
       "    </tr>\n",
       "    <tr>\n",
       "      <th>6</th>\n",
       "      <td>-0.650000</td>\n",
       "      <td>What a Liar AOC You amp your DemocRAT friends ...</td>\n",
       "    </tr>\n",
       "    <tr>\n",
       "      <th>8</th>\n",
       "      <td>-0.450000</td>\n",
       "      <td>We all knew this ScottBaio Im sorry you were a...</td>\n",
       "    </tr>\n",
       "  </tbody>\n",
       "</table>\n",
       "</div>"
      ],
      "text/plain": [
       "   polarity                                              tweet\n",
       "2 -0.083333  Antifa is no different than Nazi Like half tot...\n",
       "3 -0.500000  So Borat director Larry Charles claims that MA...\n",
       "5 -0.193750  JDoza1 The weak are the ones who uses such dis...\n",
       "6 -0.650000  What a Liar AOC You amp your DemocRAT friends ...\n",
       "8 -0.450000  We all knew this ScottBaio Im sorry you were a..."
      ]
     },
     "execution_count": 18,
     "metadata": {},
     "output_type": "execute_result"
    }
   ],
   "source": [
    "# Calculate polarity of tweets\n",
    "wild_sent_values = [[tweet.sentiment.polarity, str(tweet)] for tweet in all_tweets_no_urls]\n",
    "\n",
    "# Create dataframe containing polarity values and tweet text\n",
    "wild_sent_df = pd.DataFrame(wild_sent_values, columns=[\"polarity\", \"tweet\"])\n",
    "wild_sent_df = wild_sent_df[wild_sent_df.polarity != 0]\n",
    "\n",
    "wild_sent_df.head()"
   ]
  },
  {
   "cell_type": "code",
   "execution_count": 19,
   "metadata": {},
   "outputs": [
    {
     "data": {
      "image/png": "[encoded data removed]",
      "text/plain": [
       "<Figure size 576x432 with 1 Axes>"
      ]
     },
     "metadata": {
      "needs_background": "light"
     },
     "output_type": "display_data"
    }
   ],
   "source": [
    "fig, ax = plt.subplots(figsize=(8, 6))\n",
    "\n",
    "wild_sent_df.hist(bins=[-1, -0.75, -0.5, -0.25, 0, 0.25, 0.5, 0.75, 1],\n",
    "        ax=ax, color=\"purple\")\n",
    "\n",
    "plt.title(\"Sentiments from Tweets on the Antifa\")\n",
    "plt.show()"
   ]
  },
  {
   "cell_type": "code",
   "execution_count": null,
   "metadata": {},
   "outputs": [],
   "source": []
  }
 ],
 "metadata": {
  "kernelspec": {
   "display_name": "Python 3",
   "language": "python",
   "name": "python3"
  },
  "language_info": {
   "codemirror_mode": {
    "name": "ipython",
    "version": 3
   },
   "file_extension": ".py",
   "mimetype": "text/x-python",
   "name": "python",
   "nbconvert_exporter": "python",
   "pygments_lexer": "ipython3",
   "version": "3.7.3"
  }
 },
 "nbformat": 4,
 "nbformat_minor": 4
}
